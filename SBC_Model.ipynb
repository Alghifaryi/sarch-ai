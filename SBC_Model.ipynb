{
  "cells": [
    {
      "cell_type": "code",
      "source": [
        "import pandas as pd\n",
        "from sklearn.model_selection import train_test_split\n",
        "from sklearn.ensemble import RandomForestClassifier\n",
        "from sklearn.metrics import accuracy_score, classification_report, confusion_matrix\n",
        "\n",
        "# Your provided DataFrame with 'Ellipsis' values\n",
        "data = {\n",
        "    'Height': [0, 1, 2, 3, 4, 5],\n",
        "    'Area': [10, 15, 12, 20, 18, 19],\n",
        "    'Compliant': ['Yes', 'Yes', 'No', 'Yes', 'No', 'No'],\n",
        "    'Occupancy Group_Ellipsis': [0, 0, 0, 0, 0, 1],\n",
        "    'Occupancy Group_A-1': [1, 0, 0, 0, 0, 0],\n",
        "    'Occupancy Group_A-2': [0, 1, 0, 0, 0, 0],\n",
        "    'Occupancy Group_A-3': [0, 0, 1, 0, 0, 0],\n",
        "    'Occupancy Group_I': [0, 0, 0, 1, 0, 0],\n",
        "    'Occupancy Group_II': [0, 0, 0, 0, 1, 0],\n",
        "    'Construction Type_Ellipsis': [0, 0, 0, 0, 1, 0],\n",
        "    'Construction Type_I': [1, 0, 0, 0, 0, 0],\n",
        "    'Construction Type_II': [0, 1, 0, 0, 0, 0],\n",
        "    'Construction Material_Ellipsis': [0, 0, 0, 0, 1, 0],\n",
        "    'Construction Material_Concrete': [1, 0, 0, 1, 0, 0],\n",
        "    'Construction Material_Steel': [0, 0, 0, 0, 1, 0],\n",
        "    'Construction Material_Wood': [0, 0, 1, 0, 0, 0],\n",
        "    'Wood Design Standards_Ellipsis': [1, 0, 0, 0, 0, 0],\n",
        "    'Wood Design Standards_ASD': [0, 1, 0, 1, 0, 0],\n",
        "    'Wood Design Standards_Conventional': [0, 0, 1, 0, 0, 0],\n",
        "    'Wood Design Standards_LRFD': [0, 0, 0, 0, 0, 0],\n",
        "}\n",
        "\n",
        "df = pd.DataFrame(data)\n",
        "\n",
        "# Replace 'Ellipsis' with NaN\n",
        "df.replace('Ellipsis', pd.NA, inplace=True)\n",
        "\n",
        "# Convert columns to numeric\n",
        "df = df.apply(pd.to_numeric, errors='ignore')\n",
        "\n",
        "# Replace NaN with the mean of their respective columns\n",
        "df.fillna(df.mean(), inplace=True)\n",
        "\n",
        "# Convert 'Yes'/'No' to 1/0 for the target variable\n",
        "df['Compliant'] = df['Compliant'].map({'Yes': 1, 'No': 0})\n",
        "\n",
        "# Separate features and target variable\n",
        "X = df.drop(['Compliant'], axis=1)\n",
        "y = df['Compliant']\n",
        "\n",
        "# Split the data into training and testing sets\n",
        "X_train, X_test, y_train, y_test = train_test_split(X, y, test_size=0.2, random_state=42)\n",
        "\n",
        "# Initialize the RandomForestClassifier\n",
        "clf = RandomForestClassifier(random_state=42)\n",
        "\n",
        "# Train the model\n",
        "clf.fit(X_train, y_train)\n",
        "\n"
      ],
      "metadata": {
        "colab": {
          "base_uri": "https://localhost:8080/",
          "height": 129
        },
        "id": "0DSlLLDJ2PNy",
        "outputId": "cb7a72c1-9224-4ccb-c814-8127538a5913"
      },
      "execution_count": 49,
      "outputs": [
        {
          "output_type": "stream",
          "name": "stderr",
          "text": [
            "<ipython-input-49-f86929634cae>:39: FutureWarning: The default value of numeric_only in DataFrame.mean is deprecated. In a future version, it will default to False. In addition, specifying 'numeric_only=None' is deprecated. Select only valid columns or specify the value of numeric_only to silence this warning.\n",
            "  df.fillna(df.mean(), inplace=True)\n"
          ]
        },
        {
          "output_type": "execute_result",
          "data": {
            "text/plain": [
              "RandomForestClassifier(random_state=42)"
            ],
            "text/html": [
              "<style>#sk-container-id-1 {color: black;background-color: white;}#sk-container-id-1 pre{padding: 0;}#sk-container-id-1 div.sk-toggleable {background-color: white;}#sk-container-id-1 label.sk-toggleable__label {cursor: pointer;display: block;width: 100%;margin-bottom: 0;padding: 0.3em;box-sizing: border-box;text-align: center;}#sk-container-id-1 label.sk-toggleable__label-arrow:before {content: \"▸\";float: left;margin-right: 0.25em;color: #696969;}#sk-container-id-1 label.sk-toggleable__label-arrow:hover:before {color: black;}#sk-container-id-1 div.sk-estimator:hover label.sk-toggleable__label-arrow:before {color: black;}#sk-container-id-1 div.sk-toggleable__content {max-height: 0;max-width: 0;overflow: hidden;text-align: left;background-color: #f0f8ff;}#sk-container-id-1 div.sk-toggleable__content pre {margin: 0.2em;color: black;border-radius: 0.25em;background-color: #f0f8ff;}#sk-container-id-1 input.sk-toggleable__control:checked~div.sk-toggleable__content {max-height: 200px;max-width: 100%;overflow: auto;}#sk-container-id-1 input.sk-toggleable__control:checked~label.sk-toggleable__label-arrow:before {content: \"▾\";}#sk-container-id-1 div.sk-estimator input.sk-toggleable__control:checked~label.sk-toggleable__label {background-color: #d4ebff;}#sk-container-id-1 div.sk-label input.sk-toggleable__control:checked~label.sk-toggleable__label {background-color: #d4ebff;}#sk-container-id-1 input.sk-hidden--visually {border: 0;clip: rect(1px 1px 1px 1px);clip: rect(1px, 1px, 1px, 1px);height: 1px;margin: -1px;overflow: hidden;padding: 0;position: absolute;width: 1px;}#sk-container-id-1 div.sk-estimator {font-family: monospace;background-color: #f0f8ff;border: 1px dotted black;border-radius: 0.25em;box-sizing: border-box;margin-bottom: 0.5em;}#sk-container-id-1 div.sk-estimator:hover {background-color: #d4ebff;}#sk-container-id-1 div.sk-parallel-item::after {content: \"\";width: 100%;border-bottom: 1px solid gray;flex-grow: 1;}#sk-container-id-1 div.sk-label:hover label.sk-toggleable__label {background-color: #d4ebff;}#sk-container-id-1 div.sk-serial::before {content: \"\";position: absolute;border-left: 1px solid gray;box-sizing: border-box;top: 0;bottom: 0;left: 50%;z-index: 0;}#sk-container-id-1 div.sk-serial {display: flex;flex-direction: column;align-items: center;background-color: white;padding-right: 0.2em;padding-left: 0.2em;position: relative;}#sk-container-id-1 div.sk-item {position: relative;z-index: 1;}#sk-container-id-1 div.sk-parallel {display: flex;align-items: stretch;justify-content: center;background-color: white;position: relative;}#sk-container-id-1 div.sk-item::before, #sk-container-id-1 div.sk-parallel-item::before {content: \"\";position: absolute;border-left: 1px solid gray;box-sizing: border-box;top: 0;bottom: 0;left: 50%;z-index: -1;}#sk-container-id-1 div.sk-parallel-item {display: flex;flex-direction: column;z-index: 1;position: relative;background-color: white;}#sk-container-id-1 div.sk-parallel-item:first-child::after {align-self: flex-end;width: 50%;}#sk-container-id-1 div.sk-parallel-item:last-child::after {align-self: flex-start;width: 50%;}#sk-container-id-1 div.sk-parallel-item:only-child::after {width: 0;}#sk-container-id-1 div.sk-dashed-wrapped {border: 1px dashed gray;margin: 0 0.4em 0.5em 0.4em;box-sizing: border-box;padding-bottom: 0.4em;background-color: white;}#sk-container-id-1 div.sk-label label {font-family: monospace;font-weight: bold;display: inline-block;line-height: 1.2em;}#sk-container-id-1 div.sk-label-container {text-align: center;}#sk-container-id-1 div.sk-container {/* jupyter's `normalize.less` sets `[hidden] { display: none; }` but bootstrap.min.css set `[hidden] { display: none !important; }` so we also need the `!important` here to be able to override the default hidden behavior on the sphinx rendered scikit-learn.org. See: https://github.com/scikit-learn/scikit-learn/issues/21755 */display: inline-block !important;position: relative;}#sk-container-id-1 div.sk-text-repr-fallback {display: none;}</style><div id=\"sk-container-id-1\" class=\"sk-top-container\"><div class=\"sk-text-repr-fallback\"><pre>RandomForestClassifier(random_state=42)</pre><b>In a Jupyter environment, please rerun this cell to show the HTML representation or trust the notebook. <br />On GitHub, the HTML representation is unable to render, please try loading this page with nbviewer.org.</b></div><div class=\"sk-container\" hidden><div class=\"sk-item\"><div class=\"sk-estimator sk-toggleable\"><input class=\"sk-toggleable__control sk-hidden--visually\" id=\"sk-estimator-id-1\" type=\"checkbox\" checked><label for=\"sk-estimator-id-1\" class=\"sk-toggleable__label sk-toggleable__label-arrow\">RandomForestClassifier</label><div class=\"sk-toggleable__content\"><pre>RandomForestClassifier(random_state=42)</pre></div></div></div></div></div>"
            ]
          },
          "metadata": {},
          "execution_count": 49
        }
      ]
    },
    {
      "cell_type": "code",
      "source": [
        "# Make predictions on the test set\n",
        "predictions = clf.predict(X_test)\n",
        "\n",
        "# Evaluate the model\n",
        "accuracy = accuracy_score(y_test, predictions)\n",
        "conf_matrix = confusion_matrix(y_test, predictions)\n",
        "classification_rep = classification_report(y_test, predictions)\n",
        "\n",
        "print(f'Accuracy: {accuracy:.2f}')\n",
        "print('\\nConfusion Matrix:')\n",
        "print(conf_matrix)\n",
        "print('\\nClassification Report:')\n",
        "print(classification_rep)\n"
      ],
      "metadata": {
        "colab": {
          "base_uri": "https://localhost:8080/"
        },
        "id": "Wf35czOZ2Pmg",
        "outputId": "f8b3911b-483f-4bc1-fd16-3c154b7ab9d3"
      },
      "execution_count": 50,
      "outputs": [
        {
          "output_type": "stream",
          "name": "stdout",
          "text": [
            "Accuracy: 0.00\n",
            "\n",
            "Confusion Matrix:\n",
            "[[0 0]\n",
            " [2 0]]\n",
            "\n",
            "Classification Report:\n",
            "              precision    recall  f1-score   support\n",
            "\n",
            "           0       0.00      0.00      0.00       0.0\n",
            "           1       0.00      0.00      0.00       2.0\n",
            "\n",
            "    accuracy                           0.00       2.0\n",
            "   macro avg       0.00      0.00      0.00       2.0\n",
            "weighted avg       0.00      0.00      0.00       2.0\n",
            "\n"
          ]
        },
        {
          "output_type": "stream",
          "name": "stderr",
          "text": [
            "/usr/local/lib/python3.10/dist-packages/sklearn/metrics/_classification.py:1344: UndefinedMetricWarning: Precision and F-score are ill-defined and being set to 0.0 in labels with no predicted samples. Use `zero_division` parameter to control this behavior.\n",
            "  _warn_prf(average, modifier, msg_start, len(result))\n",
            "/usr/local/lib/python3.10/dist-packages/sklearn/metrics/_classification.py:1344: UndefinedMetricWarning: Recall and F-score are ill-defined and being set to 0.0 in labels with no true samples. Use `zero_division` parameter to control this behavior.\n",
            "  _warn_prf(average, modifier, msg_start, len(result))\n",
            "/usr/local/lib/python3.10/dist-packages/sklearn/metrics/_classification.py:1344: UndefinedMetricWarning: Precision and F-score are ill-defined and being set to 0.0 in labels with no predicted samples. Use `zero_division` parameter to control this behavior.\n",
            "  _warn_prf(average, modifier, msg_start, len(result))\n",
            "/usr/local/lib/python3.10/dist-packages/sklearn/metrics/_classification.py:1344: UndefinedMetricWarning: Recall and F-score are ill-defined and being set to 0.0 in labels with no true samples. Use `zero_division` parameter to control this behavior.\n",
            "  _warn_prf(average, modifier, msg_start, len(result))\n",
            "/usr/local/lib/python3.10/dist-packages/sklearn/metrics/_classification.py:1344: UndefinedMetricWarning: Precision and F-score are ill-defined and being set to 0.0 in labels with no predicted samples. Use `zero_division` parameter to control this behavior.\n",
            "  _warn_prf(average, modifier, msg_start, len(result))\n",
            "/usr/local/lib/python3.10/dist-packages/sklearn/metrics/_classification.py:1344: UndefinedMetricWarning: Recall and F-score are ill-defined and being set to 0.0 in labels with no true samples. Use `zero_division` parameter to control this behavior.\n",
            "  _warn_prf(average, modifier, msg_start, len(result))\n"
          ]
        }
      ]
    },
    {
      "cell_type": "code",
      "source": [
        "import pandas as pd\n",
        "from sklearn.ensemble import RandomForestClassifier\n",
        "\n",
        "def predict_compliance(height, area, occupancy_group, construction_type, construction_material, wood_design_standards):\n",
        "    # Create a dictionary with user input\n",
        "    user_input = {\n",
        "        'Height': height,\n",
        "        'Area': area,\n",
        "        'Occupancy Group_Ellipsis': 0,\n",
        "        'Occupancy Group_A-1': 0,\n",
        "        'Occupancy Group_A-2': 0,\n",
        "        'Occupancy Group_A-3': 0,\n",
        "        'Occupancy Group_I': 0,\n",
        "        'Occupancy Group_II': 0,\n",
        "        'Construction Type_Ellipsis': 0,\n",
        "        'Construction Type_I': 0,\n",
        "        'Construction Type_II': 0,\n",
        "        'Construction Material_Ellipsis': 0,\n",
        "        'Construction Material_Concrete': 0,\n",
        "        'Construction Material_Steel': 0,\n",
        "        'Construction Material_Wood': 0,\n",
        "        'Wood Design Standards_Ellipsis': 0,\n",
        "        'Wood Design Standards_ASD': 0,\n",
        "        'Wood Design Standards_Conventional': 0,\n",
        "        'Wood Design Standards_LRFD': 0,\n",
        "    }\n",
        "\n",
        "    # Set the user input values\n",
        "    user_input['Occupancy Group_' + occupancy_group] = 1\n",
        "    user_input['Construction Type_' + construction_type] = 1\n",
        "    user_input['Construction Material_' + construction_material] = 1\n",
        "    user_input['Wood Design Standards_' + wood_design_standards] = 1\n",
        "\n",
        "    # Create a DataFrame from the user input\n",
        "    user_df = pd.DataFrame(user_input, index=[0])\n",
        "\n",
        "    # Initialize the RandomForestClassifier\n",
        "    clf = RandomForestClassifier(random_state=42)\n",
        "\n",
        "    # Train the model with the original data\n",
        "    # Note: You may want to use the full dataset for training in a real-world scenario\n",
        "    clf.fit(X_train, y_train)\n",
        "\n",
        "    # Make predictions on the user input\n",
        "    prediction = clf.predict(user_df)\n",
        "\n",
        "    return prediction\n",
        "\n",
        "# Example usage:\n",
        "height = 15\n",
        "area = 2000\n",
        "occupancy_group = 'A-2'\n",
        "construction_type = 'I'\n",
        "construction_material = 'Concrete'\n",
        "wood_design_standards = 'ASD'\n",
        "\n",
        "result = predict_compliance(height, area, occupancy_group, construction_type, construction_material, wood_design_standards)\n",
        "print(f'The predicted compliance is: {\"Yes\" if result[0] == 1 else \"No\"}')\n"
      ],
      "metadata": {
        "colab": {
          "base_uri": "https://localhost:8080/"
        },
        "id": "NhzyMucA2iwy",
        "outputId": "52b16c61-0c91-401d-9b89-7f94b575ae28"
      },
      "execution_count": 51,
      "outputs": [
        {
          "output_type": "stream",
          "name": "stdout",
          "text": [
            "The predicted compliance is: No\n"
          ]
        }
      ]
    },
    {
      "cell_type": "code",
      "source": [],
      "metadata": {
        "id": "BT-BKHVJ26R-"
      },
      "execution_count": null,
      "outputs": []
    }
  ],
  "metadata": {
    "colab": {
      "provenance": []
    },
    "kernelspec": {
      "display_name": "Python 3",
      "name": "python3"
    },
    "language_info": {
      "name": "python"
    }
  },
  "nbformat": 4,
  "nbformat_minor": 0
}